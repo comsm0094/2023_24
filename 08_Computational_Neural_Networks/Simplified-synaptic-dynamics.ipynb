{
 "cells": [
  {
   "cell_type": "markdown",
   "id": "df991f7c",
   "metadata": {},
   "source": [
    "Recap on synapses:\n",
    "\n",
    "When a cell fires a spike, it releases a type of chemical called a neurotransmitter from the end of its axon. The neurotransmitter crosses a synapse to other cells. The cell that releases the neurotransmitter is the presynaptic cell. The cells that receive the neurotransmitter are postsynaptic cells. The neurotransmitter binds to matching receptors on the postsynaptic cells (usually on the dendrites). The receptors open ion channels either directly, or by setting off a chain of events within the postsynaptic cell. \n",
    "\n",
    "In class we focused on the receptors that open ion channels directly (like $NMDA$, $AMPA$, $GABA_A$) which are known as ionotropic receptors. By opening ion channels, they may allow positively or negatively charged ions to flow into the cell. The direction of ion flow (into or out of the cell) actually depends on the difference in electric potential between the interior and the exterior of a biological cell. This difference is known as the membrane potential. For extreme membrane potentials, such as after a spike, more ions may actually flow out of the cell through these channels, but let's ignore that for now.\n",
    "\n",
    "The excitatory neurotransmitter glutamate binds to $AMPA$ and $NMDA$ receptors. This opens the ion channels that allow the positively charged ions (like Na+, Sodium) to flow into the cell. This raises the membrane potential , and makes the postsynaptic cell more likely to spike. \n",
    "\n",
    "The inhibitory neurotransmitter GABA binds to the $GABA_A$ receptor. This opens the ion channels that allow the negatively charged Cl- (chloride) ions into the cell. This lowers the membrane potential, and makes the postsynaptic cell less likely to spike.\n"
   ]
  },
  {
   "cell_type": "markdown",
   "id": "1935041e",
   "metadata": {},
   "source": [
    "Modelling synaptic transmission\n",
    "\n",
    "In class, we discussed a synaptic variable $S_{AMPA}$. This can be thought of as the proportion of open ion channels at a synapse due to the activation of the AMPA receptors. $S_{NMDA}$ and $S_{GABA}$ can be interpreted in the same way.\n",
    "\n",
    "The equation for $AMPA$ and $GABA_A$ receptors was as follows:\n",
    "\\begin{equation}\n",
    "S_{GABA_A} = \\frac{-S_{GABA_A}}{\\tau_{GABA_A}} + \\delta(t-t_s)\n",
    "\\end{equation}\n",
    "\n",
    "The way to think about this is as follows. \n",
    "\n",
    "When there is no spike, the proportion of open ion channels due to activation of $GABA_A$ receptors ($S_{GABA_A}$)  goes back down towards zero at a rate governed by the time constant ($\\tau_{GABA_A}$).\n",
    "\n",
    "When there is no spike: \n",
    "\\begin{equation}\n",
    "S_{GABA_A} = \\frac{-S_{GABA_A}}{\\tau_{GABA_A}} \n",
    "\\end{equation}\n",
    " \n",
    "\n",
    "In real life, when there is a spike, it takes some time for the ion channels to open again. However, this opening time is much faster than the closing time. So, in practice, the opening time is often ignored, and assumed to be happen immediately. \n",
    "\n",
    "When there is a presynaptic spike, we just shift the proportion of open ion channels (here $S_{GABA_A}$) up by a constant. \n",
    "\n",
    "This strange expression $\\delta(t-t_s)$ (known as the Kronecker delta function) is meant to capture this immediate increase in $S_{GABA_A}$. $\\delta(t-t_s)$ equals 1 whenever the current time $t$ coincides with a spike $t_s$. It equals zero otherwise.\n",
    "\n",
    "$$\n",
    "\\delta(t-t_s) = 0 \\text{ if } t \\neq t_s,   \\\\\n",
    "\\delta(t-t_s) = 1 \\text{ if } t=t_s\n",
    "$$\n",
    "\n",
    "It is also possible to increase $S_{GABA_A}$ by other values, $w$, in proportion to the synaptic strength, but for now let's leave it as 1. \n",
    "\n",
    "After the spike, we continue to use the same equation as when there is no spike, but continuing from the new value of $S_{GABA_A}$.\n",
    "\n",
    "In the following, we drop the subscript A from $GABA_A$, as we are not interested in other types of $GABA$ receptors, for now."
   ]
  },
  {
   "cell_type": "markdown",
   "id": "03d20355",
   "metadata": {},
   "source": [
    "Now let's set up the parameters for a simulation. To run the simulation you will need python3 and brian2 installed (unless you are using binder)"
   ]
  },
  {
   "cell_type": "code",
   "execution_count": 46,
   "id": "d3037a99",
   "metadata": {},
   "outputs": [],
   "source": [
    "# Let's import the tools from the brian2 package, which allows us to use units\n",
    "from brian2 import *\n",
    "\n",
    "# first let's get the parameters together. \n",
    "\n",
    "#timestep for simulations\n",
    "dt = 0.1 * ms\n",
    "# decay time constant for AMPA receptors\n",
    "tau_gaba = 5 * ms\n",
    "# synaptic strength\n",
    "w = 1\n",
    "\n",
    "s_gaba_init = 0.2"
   ]
  },
  {
   "cell_type": "code",
   "execution_count": 47,
   "id": "35258224",
   "metadata": {},
   "outputs": [],
   "source": [
    "def update_synapse(s_now,dt,tau,spike,synaptic_strength):\n",
    "    ds_dt = -s_now/tau\n",
    "    \n",
    "    if spike == 'yes':\n",
    "        s_next = s_now + synaptic_strength + dt*ds_dt \n",
    "    else: \n",
    "        s_next = s_now + dt*ds_dt \n",
    "        \n",
    "    return s_next\n",
    "\n"
   ]
  },
  {
   "cell_type": "code",
   "execution_count": 48,
   "id": "071dedb0",
   "metadata": {},
   "outputs": [],
   "source": [
    "# Now let's calculate S_gaba at the next timestep following a spike, for an initial value of S_gaba = 0.2\n",
    "\n",
    "s_next = update_synapse(s_gaba_init,dt,tau_gaba,'yes',w)\n"
   ]
  },
  {
   "cell_type": "code",
   "execution_count": 45,
   "id": "7c8d4657",
   "metadata": {},
   "outputs": [
    {
     "name": "stdout",
     "output_type": "stream",
     "text": [
      "1.196\n"
     ]
    }
   ],
   "source": [
    "print(s_next)"
   ]
  },
  {
   "cell_type": "code",
   "execution_count": null,
   "id": "b70e18dc",
   "metadata": {},
   "outputs": [],
   "source": []
  }
 ],
 "metadata": {
  "kernelspec": {
   "display_name": "Python 3 (ipykernel)",
   "language": "python",
   "name": "python3"
  },
  "language_info": {
   "codemirror_mode": {
    "name": "ipython",
    "version": 3
   },
   "file_extension": ".py",
   "mimetype": "text/x-python",
   "name": "python",
   "nbconvert_exporter": "python",
   "pygments_lexer": "ipython3",
   "version": "3.9.15"
  }
 },
 "nbformat": 4,
 "nbformat_minor": 5
}
